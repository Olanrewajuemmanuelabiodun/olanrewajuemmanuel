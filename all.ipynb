{
 "cells": [
  {
   "cell_type": "code",
   "execution_count": null,
   "id": "1e2057fe-fbba-46e2-97b3-d288e2a403d0",
   "metadata": {},
   "outputs": [],
   "source": [
    "import os\n",
    "import subprocess\n",
    "\n",
    "\n",
    "# Define the names of the GULP input files to run\n",
    "path = \"/project/wen/emmanuel/gulp/Aluminosilicate_redo\"\n",
    "os.chdir(path)\n",
    "\n",
    "# Loop over the input files and create a separate submission script for each one\n",
    "for input_file in os.listdir():\n",
    "    if not input_file.endswith('.gin'): \n",
    "        continue\n",
    "    # Create the directory to save the files\n",
    "    output_dir = path + '/' + input_file[:-3]\n",
    "    \n",
    "\n",
    "    # Create the directory if it doesn't exist\n",
    "    os.makedirs(output_dir, exist_ok=True)\n",
    "    os.rename(f\"{path}/{input_file}\", f\"{output_dir}/{input_file}\")\n",
    "\n",
    "    # Create the contents of the submission script\n",
    "    submit_script = f\"\"\"#!/bin/bash\n",
    "#SBATCH --job-name={input_file}\n",
    "#SBATCH --output={input_file[:-3]}.out\n",
    "#SBATCH --error={input_file[:-3]}.err\n",
    "#SBATCH --time=48:00:00\n",
    "#SBATCH -N 1\n",
    "#SBATCH -n 12\n",
    "#SBATCH --mem-per-cpu=3G\n",
    "\n",
    "# Run the GULP input file\n",
    "module load intel-oneapi\n",
    "module load gulp/6.1.2\n",
    "mpirun gulp < {input_file} \n",
    "\"\"\"\n",
    "\n",
    "    # Write the submission script to a file\n",
    "    with open(f\"{output_dir}/submit_{input_file[:-4]}.sh\", 'w') as f:\n",
    "        f.write(submit_script)\n",
    "\n",
    "    # Submit the job using the subprocess module\n",
    "    subprocess.run(['sbatch', f\"submit_{input_file[:-4]}.sh\"], cwd=output_dir)\n",
    "\n",
    "\n"
   ]
  }
 ],
 "metadata": {
  "kernelspec": {
   "display_name": "Python 3",
   "language": "python",
   "name": "python3"
  },
  "language_info": {
   "codemirror_mode": {
    "name": "ipython",
    "version": 3
   },
   "file_extension": ".py",
   "mimetype": "text/x-python",
   "name": "python",
   "nbconvert_exporter": "python",
   "pygments_lexer": "ipython3",
   "version": "3.9.16"
  }
 },
 "nbformat": 4,
 "nbformat_minor": 5
}
